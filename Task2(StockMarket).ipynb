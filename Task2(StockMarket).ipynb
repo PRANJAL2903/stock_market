{
  "nbformat": 4,
  "nbformat_minor": 0,
  "metadata": {
    "colab": {
      "provenance": [],
      "authorship_tag": "ABX9TyOAPqpb3mxnD3/JKejkhwbo",
      "include_colab_link": true
    },
    "kernelspec": {
      "name": "python3",
      "display_name": "Python 3"
    },
    "language_info": {
      "name": "python"
    }
  },
  "cells": [
    {
      "cell_type": "markdown",
      "metadata": {
        "id": "view-in-github",
        "colab_type": "text"
      },
      "source": [
        "<a href=\"https://colab.research.google.com/github/PRANJAL2903/stock_market/blob/main/Task2(StockMarket).ipynb\" target=\"_parent\"><img src=\"https://colab.research.google.com/assets/colab-badge.svg\" alt=\"Open In Colab\"/></a>"
      ]
    },
    {
      "cell_type": "code",
      "execution_count": null,
      "metadata": {
        "id": "47I72yHb0V7q"
      },
      "outputs": [],
      "source": [
        "from sklearn.preprocessing import MinMaxScaler\n",
        "from tensorflow.keras.models import Sequential\n",
        "from tensorflow.keras.layers import Dense\n",
        "from tensorflow.keras.layers import LSTM\n",
        "from sklearn.metrics import mean_squared_error\n",
        "\n",
        "import matplotlib.pyplot as plt\n",
        "import seaborn as sns\n",
        "import warnings \n",
        "import pandas as pd\n",
        "import numpy as np\n",
        "import math \n",
        "warnings.filterwarnings('ignore')"
      ]
    },
    {
      "cell_type": "code",
      "source": [
        "d = pd.read_csv('https://raw.githubusercontent.com/mwitiderrick/stockprice/master/NSE-TATAGLOBAL.csv')\n",
        "d.head()"
      ],
      "metadata": {
        "colab": {
          "base_uri": "https://localhost:8080/",
          "height": 206
        },
        "id": "JBZ2jlcB0ZG0",
        "outputId": "9f5f1c2a-e5f8-481c-dd40-ce4385310f7d"
      },
      "execution_count": null,
      "outputs": [
        {
          "output_type": "execute_result",
          "data": {
            "text/plain": [
              "         Date    Open    High     Low    Last   Close  Total Trade Quantity  \\\n",
              "0  2018-09-28  234.05  235.95  230.20  233.50  233.75               3069914   \n",
              "1  2018-09-27  234.55  236.80  231.10  233.80  233.25               5082859   \n",
              "2  2018-09-26  240.00  240.00  232.50  235.00  234.25               2240909   \n",
              "3  2018-09-25  233.30  236.75  232.00  236.25  236.10               2349368   \n",
              "4  2018-09-24  233.55  239.20  230.75  234.00  233.30               3423509   \n",
              "\n",
              "   Turnover (Lacs)  \n",
              "0          7162.35  \n",
              "1         11859.95  \n",
              "2          5248.60  \n",
              "3          5503.90  \n",
              "4          7999.55  "
            ],
            "text/html": [
              "\n",
              "  <div id=\"df-40010da7-f3fc-49fd-9c70-08f8e1062aa3\">\n",
              "    <div class=\"colab-df-container\">\n",
              "      <div>\n",
              "<style scoped>\n",
              "    .dataframe tbody tr th:only-of-type {\n",
              "        vertical-align: middle;\n",
              "    }\n",
              "\n",
              "    .dataframe tbody tr th {\n",
              "        vertical-align: top;\n",
              "    }\n",
              "\n",
              "    .dataframe thead th {\n",
              "        text-align: right;\n",
              "    }\n",
              "</style>\n",
              "<table border=\"1\" class=\"dataframe\">\n",
              "  <thead>\n",
              "    <tr style=\"text-align: right;\">\n",
              "      <th></th>\n",
              "      <th>Date</th>\n",
              "      <th>Open</th>\n",
              "      <th>High</th>\n",
              "      <th>Low</th>\n",
              "      <th>Last</th>\n",
              "      <th>Close</th>\n",
              "      <th>Total Trade Quantity</th>\n",
              "      <th>Turnover (Lacs)</th>\n",
              "    </tr>\n",
              "  </thead>\n",
              "  <tbody>\n",
              "    <tr>\n",
              "      <th>0</th>\n",
              "      <td>2018-09-28</td>\n",
              "      <td>234.05</td>\n",
              "      <td>235.95</td>\n",
              "      <td>230.20</td>\n",
              "      <td>233.50</td>\n",
              "      <td>233.75</td>\n",
              "      <td>3069914</td>\n",
              "      <td>7162.35</td>\n",
              "    </tr>\n",
              "    <tr>\n",
              "      <th>1</th>\n",
              "      <td>2018-09-27</td>\n",
              "      <td>234.55</td>\n",
              "      <td>236.80</td>\n",
              "      <td>231.10</td>\n",
              "      <td>233.80</td>\n",
              "      <td>233.25</td>\n",
              "      <td>5082859</td>\n",
              "      <td>11859.95</td>\n",
              "    </tr>\n",
              "    <tr>\n",
              "      <th>2</th>\n",
              "      <td>2018-09-26</td>\n",
              "      <td>240.00</td>\n",
              "      <td>240.00</td>\n",
              "      <td>232.50</td>\n",
              "      <td>235.00</td>\n",
              "      <td>234.25</td>\n",
              "      <td>2240909</td>\n",
              "      <td>5248.60</td>\n",
              "    </tr>\n",
              "    <tr>\n",
              "      <th>3</th>\n",
              "      <td>2018-09-25</td>\n",
              "      <td>233.30</td>\n",
              "      <td>236.75</td>\n",
              "      <td>232.00</td>\n",
              "      <td>236.25</td>\n",
              "      <td>236.10</td>\n",
              "      <td>2349368</td>\n",
              "      <td>5503.90</td>\n",
              "    </tr>\n",
              "    <tr>\n",
              "      <th>4</th>\n",
              "      <td>2018-09-24</td>\n",
              "      <td>233.55</td>\n",
              "      <td>239.20</td>\n",
              "      <td>230.75</td>\n",
              "      <td>234.00</td>\n",
              "      <td>233.30</td>\n",
              "      <td>3423509</td>\n",
              "      <td>7999.55</td>\n",
              "    </tr>\n",
              "  </tbody>\n",
              "</table>\n",
              "</div>\n",
              "      <button class=\"colab-df-convert\" onclick=\"convertToInteractive('df-40010da7-f3fc-49fd-9c70-08f8e1062aa3')\"\n",
              "              title=\"Convert this dataframe to an interactive table.\"\n",
              "              style=\"display:none;\">\n",
              "        \n",
              "  <svg xmlns=\"http://www.w3.org/2000/svg\" height=\"24px\"viewBox=\"0 0 24 24\"\n",
              "       width=\"24px\">\n",
              "    <path d=\"M0 0h24v24H0V0z\" fill=\"none\"/>\n",
              "    <path d=\"M18.56 5.44l.94 2.06.94-2.06 2.06-.94-2.06-.94-.94-2.06-.94 2.06-2.06.94zm-11 1L8.5 8.5l.94-2.06 2.06-.94-2.06-.94L8.5 2.5l-.94 2.06-2.06.94zm10 10l.94 2.06.94-2.06 2.06-.94-2.06-.94-.94-2.06-.94 2.06-2.06.94z\"/><path d=\"M17.41 7.96l-1.37-1.37c-.4-.4-.92-.59-1.43-.59-.52 0-1.04.2-1.43.59L10.3 9.45l-7.72 7.72c-.78.78-.78 2.05 0 2.83L4 21.41c.39.39.9.59 1.41.59.51 0 1.02-.2 1.41-.59l7.78-7.78 2.81-2.81c.8-.78.8-2.07 0-2.86zM5.41 20L4 18.59l7.72-7.72 1.47 1.35L5.41 20z\"/>\n",
              "  </svg>\n",
              "      </button>\n",
              "      \n",
              "  <style>\n",
              "    .colab-df-container {\n",
              "      display:flex;\n",
              "      flex-wrap:wrap;\n",
              "      gap: 12px;\n",
              "    }\n",
              "\n",
              "    .colab-df-convert {\n",
              "      background-color: #E8F0FE;\n",
              "      border: none;\n",
              "      border-radius: 50%;\n",
              "      cursor: pointer;\n",
              "      display: none;\n",
              "      fill: #1967D2;\n",
              "      height: 32px;\n",
              "      padding: 0 0 0 0;\n",
              "      width: 32px;\n",
              "    }\n",
              "\n",
              "    .colab-df-convert:hover {\n",
              "      background-color: #E2EBFA;\n",
              "      box-shadow: 0px 1px 2px rgba(60, 64, 67, 0.3), 0px 1px 3px 1px rgba(60, 64, 67, 0.15);\n",
              "      fill: #174EA6;\n",
              "    }\n",
              "\n",
              "    [theme=dark] .colab-df-convert {\n",
              "      background-color: #3B4455;\n",
              "      fill: #D2E3FC;\n",
              "    }\n",
              "\n",
              "    [theme=dark] .colab-df-convert:hover {\n",
              "      background-color: #434B5C;\n",
              "      box-shadow: 0px 1px 3px 1px rgba(0, 0, 0, 0.15);\n",
              "      filter: drop-shadow(0px 1px 2px rgba(0, 0, 0, 0.3));\n",
              "      fill: #FFFFFF;\n",
              "    }\n",
              "  </style>\n",
              "\n",
              "      <script>\n",
              "        const buttonEl =\n",
              "          document.querySelector('#df-40010da7-f3fc-49fd-9c70-08f8e1062aa3 button.colab-df-convert');\n",
              "        buttonEl.style.display =\n",
              "          google.colab.kernel.accessAllowed ? 'block' : 'none';\n",
              "\n",
              "        async function convertToInteractive(key) {\n",
              "          const element = document.querySelector('#df-40010da7-f3fc-49fd-9c70-08f8e1062aa3');\n",
              "          const dataTable =\n",
              "            await google.colab.kernel.invokeFunction('convertToInteractive',\n",
              "                                                     [key], {});\n",
              "          if (!dataTable) return;\n",
              "\n",
              "          const docLinkHtml = 'Like what you see? Visit the ' +\n",
              "            '<a target=\"_blank\" href=https://colab.research.google.com/notebooks/data_table.ipynb>data table notebook</a>'\n",
              "            + ' to learn more about interactive tables.';\n",
              "          element.innerHTML = '';\n",
              "          dataTable['output_type'] = 'display_data';\n",
              "          await google.colab.output.renderOutput(dataTable, element);\n",
              "          const docLink = document.createElement('div');\n",
              "          docLink.innerHTML = docLinkHtml;\n",
              "          element.appendChild(docLink);\n",
              "        }\n",
              "      </script>\n",
              "    </div>\n",
              "  </div>\n",
              "  "
            ]
          },
          "metadata": {},
          "execution_count": 2
        }
      ]
    },
    {
      "cell_type": "code",
      "source": [
        "d.info()"
      ],
      "metadata": {
        "colab": {
          "base_uri": "https://localhost:8080/"
        },
        "id": "9pypSjQo0fWg",
        "outputId": "4f4934ae-9c49-4719-c6e3-dc137d7116df"
      },
      "execution_count": null,
      "outputs": [
        {
          "output_type": "stream",
          "name": "stdout",
          "text": [
            "<class 'pandas.core.frame.DataFrame'>\n",
            "RangeIndex: 2035 entries, 0 to 2034\n",
            "Data columns (total 8 columns):\n",
            " #   Column                Non-Null Count  Dtype  \n",
            "---  ------                --------------  -----  \n",
            " 0   Date                  2035 non-null   object \n",
            " 1   Open                  2035 non-null   float64\n",
            " 2   High                  2035 non-null   float64\n",
            " 3   Low                   2035 non-null   float64\n",
            " 4   Last                  2035 non-null   float64\n",
            " 5   Close                 2035 non-null   float64\n",
            " 6   Total Trade Quantity  2035 non-null   int64  \n",
            " 7   Turnover (Lacs)       2035 non-null   float64\n",
            "dtypes: float64(6), int64(1), object(1)\n",
            "memory usage: 127.3+ KB\n"
          ]
        }
      ]
    },
    {
      "cell_type": "code",
      "source": [
        "d.describe()"
      ],
      "metadata": {
        "colab": {
          "base_uri": "https://localhost:8080/",
          "height": 300
        },
        "id": "ilLwW7nj0hDa",
        "outputId": "da762ee2-ca3d-4fac-99bf-760085da1855"
      },
      "execution_count": null,
      "outputs": [
        {
          "output_type": "execute_result",
          "data": {
            "text/plain": [
              "              Open         High          Low         Last       Close  \\\n",
              "count  2035.000000  2035.000000  2035.000000  2035.000000  2035.00000   \n",
              "mean    149.713735   151.992826   147.293931   149.474251   149.45027   \n",
              "std      48.664509    49.413109    47.931958    48.732570    48.71204   \n",
              "min      81.100000    82.800000    80.000000    81.000000    80.95000   \n",
              "25%     120.025000   122.100000   118.300000   120.075000   120.05000   \n",
              "50%     141.500000   143.400000   139.600000   141.100000   141.25000   \n",
              "75%     157.175000   159.400000   155.150000   156.925000   156.90000   \n",
              "max     327.700000   328.750000   321.650000   325.950000   325.75000   \n",
              "\n",
              "       Total Trade Quantity  Turnover (Lacs)  \n",
              "count          2.035000e+03      2035.000000  \n",
              "mean           2.335681e+06      3899.980565  \n",
              "std            2.091778e+06      4570.767877  \n",
              "min            3.961000e+04        37.040000  \n",
              "25%            1.146444e+06      1427.460000  \n",
              "50%            1.783456e+06      2512.030000  \n",
              "75%            2.813594e+06      4539.015000  \n",
              "max            2.919102e+07     55755.080000  "
            ],
            "text/html": [
              "\n",
              "  <div id=\"df-eeb1597e-e639-4f6e-8596-15fee18a39dd\">\n",
              "    <div class=\"colab-df-container\">\n",
              "      <div>\n",
              "<style scoped>\n",
              "    .dataframe tbody tr th:only-of-type {\n",
              "        vertical-align: middle;\n",
              "    }\n",
              "\n",
              "    .dataframe tbody tr th {\n",
              "        vertical-align: top;\n",
              "    }\n",
              "\n",
              "    .dataframe thead th {\n",
              "        text-align: right;\n",
              "    }\n",
              "</style>\n",
              "<table border=\"1\" class=\"dataframe\">\n",
              "  <thead>\n",
              "    <tr style=\"text-align: right;\">\n",
              "      <th></th>\n",
              "      <th>Open</th>\n",
              "      <th>High</th>\n",
              "      <th>Low</th>\n",
              "      <th>Last</th>\n",
              "      <th>Close</th>\n",
              "      <th>Total Trade Quantity</th>\n",
              "      <th>Turnover (Lacs)</th>\n",
              "    </tr>\n",
              "  </thead>\n",
              "  <tbody>\n",
              "    <tr>\n",
              "      <th>count</th>\n",
              "      <td>2035.000000</td>\n",
              "      <td>2035.000000</td>\n",
              "      <td>2035.000000</td>\n",
              "      <td>2035.000000</td>\n",
              "      <td>2035.00000</td>\n",
              "      <td>2.035000e+03</td>\n",
              "      <td>2035.000000</td>\n",
              "    </tr>\n",
              "    <tr>\n",
              "      <th>mean</th>\n",
              "      <td>149.713735</td>\n",
              "      <td>151.992826</td>\n",
              "      <td>147.293931</td>\n",
              "      <td>149.474251</td>\n",
              "      <td>149.45027</td>\n",
              "      <td>2.335681e+06</td>\n",
              "      <td>3899.980565</td>\n",
              "    </tr>\n",
              "    <tr>\n",
              "      <th>std</th>\n",
              "      <td>48.664509</td>\n",
              "      <td>49.413109</td>\n",
              "      <td>47.931958</td>\n",
              "      <td>48.732570</td>\n",
              "      <td>48.71204</td>\n",
              "      <td>2.091778e+06</td>\n",
              "      <td>4570.767877</td>\n",
              "    </tr>\n",
              "    <tr>\n",
              "      <th>min</th>\n",
              "      <td>81.100000</td>\n",
              "      <td>82.800000</td>\n",
              "      <td>80.000000</td>\n",
              "      <td>81.000000</td>\n",
              "      <td>80.95000</td>\n",
              "      <td>3.961000e+04</td>\n",
              "      <td>37.040000</td>\n",
              "    </tr>\n",
              "    <tr>\n",
              "      <th>25%</th>\n",
              "      <td>120.025000</td>\n",
              "      <td>122.100000</td>\n",
              "      <td>118.300000</td>\n",
              "      <td>120.075000</td>\n",
              "      <td>120.05000</td>\n",
              "      <td>1.146444e+06</td>\n",
              "      <td>1427.460000</td>\n",
              "    </tr>\n",
              "    <tr>\n",
              "      <th>50%</th>\n",
              "      <td>141.500000</td>\n",
              "      <td>143.400000</td>\n",
              "      <td>139.600000</td>\n",
              "      <td>141.100000</td>\n",
              "      <td>141.25000</td>\n",
              "      <td>1.783456e+06</td>\n",
              "      <td>2512.030000</td>\n",
              "    </tr>\n",
              "    <tr>\n",
              "      <th>75%</th>\n",
              "      <td>157.175000</td>\n",
              "      <td>159.400000</td>\n",
              "      <td>155.150000</td>\n",
              "      <td>156.925000</td>\n",
              "      <td>156.90000</td>\n",
              "      <td>2.813594e+06</td>\n",
              "      <td>4539.015000</td>\n",
              "    </tr>\n",
              "    <tr>\n",
              "      <th>max</th>\n",
              "      <td>327.700000</td>\n",
              "      <td>328.750000</td>\n",
              "      <td>321.650000</td>\n",
              "      <td>325.950000</td>\n",
              "      <td>325.75000</td>\n",
              "      <td>2.919102e+07</td>\n",
              "      <td>55755.080000</td>\n",
              "    </tr>\n",
              "  </tbody>\n",
              "</table>\n",
              "</div>\n",
              "      <button class=\"colab-df-convert\" onclick=\"convertToInteractive('df-eeb1597e-e639-4f6e-8596-15fee18a39dd')\"\n",
              "              title=\"Convert this dataframe to an interactive table.\"\n",
              "              style=\"display:none;\">\n",
              "        \n",
              "  <svg xmlns=\"http://www.w3.org/2000/svg\" height=\"24px\"viewBox=\"0 0 24 24\"\n",
              "       width=\"24px\">\n",
              "    <path d=\"M0 0h24v24H0V0z\" fill=\"none\"/>\n",
              "    <path d=\"M18.56 5.44l.94 2.06.94-2.06 2.06-.94-2.06-.94-.94-2.06-.94 2.06-2.06.94zm-11 1L8.5 8.5l.94-2.06 2.06-.94-2.06-.94L8.5 2.5l-.94 2.06-2.06.94zm10 10l.94 2.06.94-2.06 2.06-.94-2.06-.94-.94-2.06-.94 2.06-2.06.94z\"/><path d=\"M17.41 7.96l-1.37-1.37c-.4-.4-.92-.59-1.43-.59-.52 0-1.04.2-1.43.59L10.3 9.45l-7.72 7.72c-.78.78-.78 2.05 0 2.83L4 21.41c.39.39.9.59 1.41.59.51 0 1.02-.2 1.41-.59l7.78-7.78 2.81-2.81c.8-.78.8-2.07 0-2.86zM5.41 20L4 18.59l7.72-7.72 1.47 1.35L5.41 20z\"/>\n",
              "  </svg>\n",
              "      </button>\n",
              "      \n",
              "  <style>\n",
              "    .colab-df-container {\n",
              "      display:flex;\n",
              "      flex-wrap:wrap;\n",
              "      gap: 12px;\n",
              "    }\n",
              "\n",
              "    .colab-df-convert {\n",
              "      background-color: #E8F0FE;\n",
              "      border: none;\n",
              "      border-radius: 50%;\n",
              "      cursor: pointer;\n",
              "      display: none;\n",
              "      fill: #1967D2;\n",
              "      height: 32px;\n",
              "      padding: 0 0 0 0;\n",
              "      width: 32px;\n",
              "    }\n",
              "\n",
              "    .colab-df-convert:hover {\n",
              "      background-color: #E2EBFA;\n",
              "      box-shadow: 0px 1px 2px rgba(60, 64, 67, 0.3), 0px 1px 3px 1px rgba(60, 64, 67, 0.15);\n",
              "      fill: #174EA6;\n",
              "    }\n",
              "\n",
              "    [theme=dark] .colab-df-convert {\n",
              "      background-color: #3B4455;\n",
              "      fill: #D2E3FC;\n",
              "    }\n",
              "\n",
              "    [theme=dark] .colab-df-convert:hover {\n",
              "      background-color: #434B5C;\n",
              "      box-shadow: 0px 1px 3px 1px rgba(0, 0, 0, 0.15);\n",
              "      filter: drop-shadow(0px 1px 2px rgba(0, 0, 0, 0.3));\n",
              "      fill: #FFFFFF;\n",
              "    }\n",
              "  </style>\n",
              "\n",
              "      <script>\n",
              "        const buttonEl =\n",
              "          document.querySelector('#df-eeb1597e-e639-4f6e-8596-15fee18a39dd button.colab-df-convert');\n",
              "        buttonEl.style.display =\n",
              "          google.colab.kernel.accessAllowed ? 'block' : 'none';\n",
              "\n",
              "        async function convertToInteractive(key) {\n",
              "          const element = document.querySelector('#df-eeb1597e-e639-4f6e-8596-15fee18a39dd');\n",
              "          const dataTable =\n",
              "            await google.colab.kernel.invokeFunction('convertToInteractive',\n",
              "                                                     [key], {});\n",
              "          if (!dataTable) return;\n",
              "\n",
              "          const docLinkHtml = 'Like what you see? Visit the ' +\n",
              "            '<a target=\"_blank\" href=https://colab.research.google.com/notebooks/data_table.ipynb>data table notebook</a>'\n",
              "            + ' to learn more about interactive tables.';\n",
              "          element.innerHTML = '';\n",
              "          dataTable['output_type'] = 'display_data';\n",
              "          await google.colab.output.renderOutput(dataTable, element);\n",
              "          const docLink = document.createElement('div');\n",
              "          docLink.innerHTML = docLinkHtml;\n",
              "          element.appendChild(docLink);\n",
              "        }\n",
              "      </script>\n",
              "    </div>\n",
              "  </div>\n",
              "  "
            ]
          },
          "metadata": {},
          "execution_count": 4
        }
      ]
    },
    {
      "cell_type": "code",
      "source": [
        "d['Date'] = pd.to_datetime(d['Date'])\n",
        "d.dtypes"
      ],
      "metadata": {
        "colab": {
          "base_uri": "https://localhost:8080/"
        },
        "id": "crPR1R5t0i9x",
        "outputId": "5bf222a2-e07f-46ef-d4ca-4ad4a3318091"
      },
      "execution_count": null,
      "outputs": [
        {
          "output_type": "execute_result",
          "data": {
            "text/plain": [
              "Date                    datetime64[ns]\n",
              "Open                           float64\n",
              "High                           float64\n",
              "Low                            float64\n",
              "Last                           float64\n",
              "Close                          float64\n",
              "Total Trade Quantity             int64\n",
              "Turnover (Lacs)                float64\n",
              "dtype: object"
            ]
          },
          "metadata": {},
          "execution_count": 5
        }
      ]
    },
    {
      "cell_type": "code",
      "source": [
        "d = d.sort_values('Date')\n",
        "d.head()"
      ],
      "metadata": {
        "colab": {
          "base_uri": "https://localhost:8080/",
          "height": 206
        },
        "id": "rujEkGMp0k8X",
        "outputId": "9e051de0-a7d1-4da6-cf11-cb4f01bd6121"
      },
      "execution_count": null,
      "outputs": [
        {
          "output_type": "execute_result",
          "data": {
            "text/plain": [
              "           Date   Open    High     Low    Last   Close  Total Trade Quantity  \\\n",
              "2034 2010-07-21  122.1  123.00  121.05  121.10  121.55                658666   \n",
              "2033 2010-07-22  120.3  122.00  120.25  120.75  120.90                293312   \n",
              "2032 2010-07-23  121.8  121.95  120.25  120.35  120.65                281312   \n",
              "2031 2010-07-26  120.1  121.00  117.10  117.10  117.60                658440   \n",
              "2030 2010-07-27  117.6  119.50  112.00  118.80  118.65                586100   \n",
              "\n",
              "      Turnover (Lacs)  \n",
              "2034           803.56  \n",
              "2033           355.17  \n",
              "2032           340.31  \n",
              "2031           780.01  \n",
              "2030           694.98  "
            ],
            "text/html": [
              "\n",
              "  <div id=\"df-946bc649-14ff-45ca-bc79-fc02062e0cd3\">\n",
              "    <div class=\"colab-df-container\">\n",
              "      <div>\n",
              "<style scoped>\n",
              "    .dataframe tbody tr th:only-of-type {\n",
              "        vertical-align: middle;\n",
              "    }\n",
              "\n",
              "    .dataframe tbody tr th {\n",
              "        vertical-align: top;\n",
              "    }\n",
              "\n",
              "    .dataframe thead th {\n",
              "        text-align: right;\n",
              "    }\n",
              "</style>\n",
              "<table border=\"1\" class=\"dataframe\">\n",
              "  <thead>\n",
              "    <tr style=\"text-align: right;\">\n",
              "      <th></th>\n",
              "      <th>Date</th>\n",
              "      <th>Open</th>\n",
              "      <th>High</th>\n",
              "      <th>Low</th>\n",
              "      <th>Last</th>\n",
              "      <th>Close</th>\n",
              "      <th>Total Trade Quantity</th>\n",
              "      <th>Turnover (Lacs)</th>\n",
              "    </tr>\n",
              "  </thead>\n",
              "  <tbody>\n",
              "    <tr>\n",
              "      <th>2034</th>\n",
              "      <td>2010-07-21</td>\n",
              "      <td>122.1</td>\n",
              "      <td>123.00</td>\n",
              "      <td>121.05</td>\n",
              "      <td>121.10</td>\n",
              "      <td>121.55</td>\n",
              "      <td>658666</td>\n",
              "      <td>803.56</td>\n",
              "    </tr>\n",
              "    <tr>\n",
              "      <th>2033</th>\n",
              "      <td>2010-07-22</td>\n",
              "      <td>120.3</td>\n",
              "      <td>122.00</td>\n",
              "      <td>120.25</td>\n",
              "      <td>120.75</td>\n",
              "      <td>120.90</td>\n",
              "      <td>293312</td>\n",
              "      <td>355.17</td>\n",
              "    </tr>\n",
              "    <tr>\n",
              "      <th>2032</th>\n",
              "      <td>2010-07-23</td>\n",
              "      <td>121.8</td>\n",
              "      <td>121.95</td>\n",
              "      <td>120.25</td>\n",
              "      <td>120.35</td>\n",
              "      <td>120.65</td>\n",
              "      <td>281312</td>\n",
              "      <td>340.31</td>\n",
              "    </tr>\n",
              "    <tr>\n",
              "      <th>2031</th>\n",
              "      <td>2010-07-26</td>\n",
              "      <td>120.1</td>\n",
              "      <td>121.00</td>\n",
              "      <td>117.10</td>\n",
              "      <td>117.10</td>\n",
              "      <td>117.60</td>\n",
              "      <td>658440</td>\n",
              "      <td>780.01</td>\n",
              "    </tr>\n",
              "    <tr>\n",
              "      <th>2030</th>\n",
              "      <td>2010-07-27</td>\n",
              "      <td>117.6</td>\n",
              "      <td>119.50</td>\n",
              "      <td>112.00</td>\n",
              "      <td>118.80</td>\n",
              "      <td>118.65</td>\n",
              "      <td>586100</td>\n",
              "      <td>694.98</td>\n",
              "    </tr>\n",
              "  </tbody>\n",
              "</table>\n",
              "</div>\n",
              "      <button class=\"colab-df-convert\" onclick=\"convertToInteractive('df-946bc649-14ff-45ca-bc79-fc02062e0cd3')\"\n",
              "              title=\"Convert this dataframe to an interactive table.\"\n",
              "              style=\"display:none;\">\n",
              "        \n",
              "  <svg xmlns=\"http://www.w3.org/2000/svg\" height=\"24px\"viewBox=\"0 0 24 24\"\n",
              "       width=\"24px\">\n",
              "    <path d=\"M0 0h24v24H0V0z\" fill=\"none\"/>\n",
              "    <path d=\"M18.56 5.44l.94 2.06.94-2.06 2.06-.94-2.06-.94-.94-2.06-.94 2.06-2.06.94zm-11 1L8.5 8.5l.94-2.06 2.06-.94-2.06-.94L8.5 2.5l-.94 2.06-2.06.94zm10 10l.94 2.06.94-2.06 2.06-.94-2.06-.94-.94-2.06-.94 2.06-2.06.94z\"/><path d=\"M17.41 7.96l-1.37-1.37c-.4-.4-.92-.59-1.43-.59-.52 0-1.04.2-1.43.59L10.3 9.45l-7.72 7.72c-.78.78-.78 2.05 0 2.83L4 21.41c.39.39.9.59 1.41.59.51 0 1.02-.2 1.41-.59l7.78-7.78 2.81-2.81c.8-.78.8-2.07 0-2.86zM5.41 20L4 18.59l7.72-7.72 1.47 1.35L5.41 20z\"/>\n",
              "  </svg>\n",
              "      </button>\n",
              "      \n",
              "  <style>\n",
              "    .colab-df-container {\n",
              "      display:flex;\n",
              "      flex-wrap:wrap;\n",
              "      gap: 12px;\n",
              "    }\n",
              "\n",
              "    .colab-df-convert {\n",
              "      background-color: #E8F0FE;\n",
              "      border: none;\n",
              "      border-radius: 50%;\n",
              "      cursor: pointer;\n",
              "      display: none;\n",
              "      fill: #1967D2;\n",
              "      height: 32px;\n",
              "      padding: 0 0 0 0;\n",
              "      width: 32px;\n",
              "    }\n",
              "\n",
              "    .colab-df-convert:hover {\n",
              "      background-color: #E2EBFA;\n",
              "      box-shadow: 0px 1px 2px rgba(60, 64, 67, 0.3), 0px 1px 3px 1px rgba(60, 64, 67, 0.15);\n",
              "      fill: #174EA6;\n",
              "    }\n",
              "\n",
              "    [theme=dark] .colab-df-convert {\n",
              "      background-color: #3B4455;\n",
              "      fill: #D2E3FC;\n",
              "    }\n",
              "\n",
              "    [theme=dark] .colab-df-convert:hover {\n",
              "      background-color: #434B5C;\n",
              "      box-shadow: 0px 1px 3px 1px rgba(0, 0, 0, 0.15);\n",
              "      filter: drop-shadow(0px 1px 2px rgba(0, 0, 0, 0.3));\n",
              "      fill: #FFFFFF;\n",
              "    }\n",
              "  </style>\n",
              "\n",
              "      <script>\n",
              "        const buttonEl =\n",
              "          document.querySelector('#df-946bc649-14ff-45ca-bc79-fc02062e0cd3 button.colab-df-convert');\n",
              "        buttonEl.style.display =\n",
              "          google.colab.kernel.accessAllowed ? 'block' : 'none';\n",
              "\n",
              "        async function convertToInteractive(key) {\n",
              "          const element = document.querySelector('#df-946bc649-14ff-45ca-bc79-fc02062e0cd3');\n",
              "          const dataTable =\n",
              "            await google.colab.kernel.invokeFunction('convertToInteractive',\n",
              "                                                     [key], {});\n",
              "          if (!dataTable) return;\n",
              "\n",
              "          const docLinkHtml = 'Like what you see? Visit the ' +\n",
              "            '<a target=\"_blank\" href=https://colab.research.google.com/notebooks/data_table.ipynb>data table notebook</a>'\n",
              "            + ' to learn more about interactive tables.';\n",
              "          element.innerHTML = '';\n",
              "          dataTable['output_type'] = 'display_data';\n",
              "          await google.colab.output.renderOutput(dataTable, element);\n",
              "          const docLink = document.createElement('div');\n",
              "          docLink.innerHTML = docLinkHtml;\n",
              "          element.appendChild(docLink);\n",
              "        }\n",
              "      </script>\n",
              "    </div>\n",
              "  </div>\n",
              "  "
            ]
          },
          "metadata": {},
          "execution_count": 6
        }
      ]
    },
    {
      "cell_type": "code",
      "source": [
        "plt.figure(figsize = (9,6))\n",
        "plt.title('Tata Stocks Closing Price')\n",
        "plt.plot(d['Close'],'g')\n",
        "plt.xlabel('Date',fontsize=15)\n",
        "plt.ylabel('Close',fontsize=15)"
      ],
      "metadata": {
        "colab": {
          "base_uri": "https://localhost:8080/",
          "height": 426
        },
        "id": "CugxgquA0nES",
        "outputId": "dda02867-de8d-47ef-9638-30a13b644ef7"
      },
      "execution_count": null,
      "outputs": [
        {
          "output_type": "execute_result",
          "data": {
            "text/plain": [
              "Text(0, 0.5, 'Close')"
            ]
          },
          "metadata": {},
          "execution_count": 7
        },
        {
          "output_type": "display_data",
          "data": {
            "text/plain": [
              "<Figure size 648x432 with 1 Axes>"
            ],
            "image/png": "[encoded data removed]"
          },
          "metadata": {
            "needs_background": "light"
          }
        }
      ]
    },
    {
      "cell_type": "code",
      "source": [
        "dcorr = d.corr()\n",
        "top_corr_features = dcorr.index\n",
        "plt.figure(figsize=(10,7))\n",
        "sns.heatmap(d[top_corr_features].corr(), annot=True, cmap=\"YlGnBu\")"
      ],
      "metadata": {
        "colab": {
          "base_uri": "https://localhost:8080/",
          "height": 539
        },
        "id": "M0CXQJl50pTo",
        "outputId": "7ffa49a3-dff1-4ed4-a65e-21aa47e91a16"
      },
      "execution_count": null,
      "outputs": [
        {
          "output_type": "execute_result",
          "data": {
            "text/plain": [
              "<Axes: >"
            ]
          },
          "metadata": {},
          "execution_count": 8
        },
        {
          "output_type": "display_data",
          "data": {
            "text/plain": [
              "<Figure size 720x504 with 2 Axes>"
            ],
            "image/png": "[encoded data removed]"
          },
          "metadata": {
            "needs_background": "light"
          }
        }
      ]
    },
    {
      "cell_type": "code",
      "source": [
        "data_close = d.reset_index()['Close']\n",
        "data_close.head()\n",
        "scaler = MinMaxScaler(feature_range = (0, 1))\n",
        "data_close = scaler.fit_transform(np.array(data_close).reshape(-1, 1))"
      ],
      "metadata": {
        "id": "llDFp4UU0sPy"
      },
      "execution_count": null,
      "outputs": []
    },
    {
      "cell_type": "code",
      "source": [
        "train_size = int(len(data_close)*0.70)\n",
        "test_size = len(data_close) - train_size\n",
        "train, test = data_close[0 : train_size, :], data_close[train_size : len(data_close), :1]"
      ],
      "metadata": {
        "id": "tiKSkt7m0wtg"
      },
      "execution_count": null,
      "outputs": []
    },
    {
      "cell_type": "code",
      "source": [
        "def create_matrix(ds, time_step=1):\n",
        "    dataX, dataY = [], []\n",
        "    for i in range(len(ds)-time_step-1):\n",
        "        a = ds[i:(i+time_step),0]\n",
        "        dataX.append(a)\n",
        "        dataY.append(ds[i+time_step,0])\n",
        "    return np.array(dataX), np.array(dataY)"
      ],
      "metadata": {
        "id": "4PxMWOMr06tH"
      },
      "execution_count": null,
      "outputs": []
    },
    {
      "cell_type": "code",
      "source": [
        "step=100 \n",
        "X_train, y_train = create_matrix(train, step)\n",
        "X_test, y_test = create_matrix(test, step)\n",
        "print(X_train.shape, y_train.shape)\n",
        "print(X_test.shape, y_test.shape)"
      ],
      "metadata": {
        "colab": {
          "base_uri": "https://localhost:8080/"
        },
        "id": "MKACiU260_Bc",
        "outputId": "4f666151-057e-40cd-b30a-7a0d243d4567"
      },
      "execution_count": null,
      "outputs": [
        {
          "output_type": "stream",
          "name": "stdout",
          "text": [
            "(1323, 100) (1323,)\n",
            "(510, 100) (510,)\n"
          ]
        }
      ]
    },
    {
      "cell_type": "code",
      "source": [
        "X_train = X_train.reshape(X_train.shape[0], X_train.shape[1], 1)\n",
        "X_test = X_test.reshape(X_test.shape[0], X_test.shape[1], 1)"
      ],
      "metadata": {
        "id": "lq-qNBPm1Bun"
      },
      "execution_count": null,
      "outputs": []
    },
    {
      "cell_type": "code",
      "source": [
        "model = Sequential()\n",
        "model.add(LSTM(50, return_sequences=True,input_shape=(100,1)))\n",
        "model.add(LSTM(50,return_sequences=True))\n",
        "model.add(LSTM(50))\n",
        "model.add(Dense(1))\n",
        "model.compile(loss='mean_squared_error',optimizer='adam')"
      ],
      "metadata": {
        "id": "gyRhNK_x1EDo"
      },
      "execution_count": null,
      "outputs": []
    },
    {
      "cell_type": "code",
      "source": [
        "model.summary()"
      ],
      "metadata": {
        "colab": {
          "base_uri": "https://localhost:8080/"
        },
        "id": "VQY2XS1q1HCp",
        "outputId": "750661d8-b48c-4636-f918-62417dcf5273"
      },
      "execution_count": null,
      "outputs": [
        {
          "output_type": "stream",
          "name": "stdout",
          "text": [
            "Model: \"sequential\"\n",
            "_________________________________________________________________\n",
            " Layer (type)                Output Shape              Param #   \n",
            "=================================================================\n",
            " lstm (LSTM)                 (None, 100, 50)           10400     \n",
            "                                                                 \n",
            " lstm_1 (LSTM)               (None, 100, 50)           20200     \n",
            "                                                                 \n",
            " lstm_2 (LSTM)               (None, 50)                20200     \n",
            "                                                                 \n",
            " dense (Dense)               (None, 1)                 51        \n",
            "                                                                 \n",
            "=================================================================\n",
            "Total params: 50,851\n",
            "Trainable params: 50,851\n",
            "Non-trainable params: 0\n",
            "_________________________________________________________________\n"
          ]
        }
      ]
    },
    {
      "cell_type": "code",
      "source": [
        "history = model.fit(X_train, y_train, validation_split=0.1, epochs=77, batch_size=64, verbose=1, shuffle=True).history"
      ],
      "metadata": {
        "colab": {
          "base_uri": "https://localhost:8080/"
        },
        "id": "d_WTvlaq1I9Z",
        "outputId": "3bcefee5-a742-480d-befd-d46b8ba88f2e"
      },
      "execution_count": null,
      "outputs": [
        {
          "output_type": "stream",
          "name": "stdout",
          "text": [
            "Epoch 1/77\n",
            "19/19 [==============================] - 12s 246ms/step - loss: 0.0112 - val_loss: 0.0012\n",
            "Epoch 2/77\n",
            "19/19 [==============================] - 5s 247ms/step - loss: 0.0020 - val_loss: 0.0012\n",
            "Epoch 3/77\n",
            "19/19 [==============================] - 5s 228ms/step - loss: 9.8657e-04 - val_loss: 0.0013\n",
            "Epoch 4/77\n",
            "19/19 [==============================] - 4s 225ms/step - loss: 9.0055e-04 - val_loss: 0.0012\n",
            "Epoch 5/77\n",
            "19/19 [==============================] - 5s 249ms/step - loss: 8.7053e-04 - val_loss: 0.0012\n",
            "Epoch 6/77\n",
            "19/19 [==============================] - 4s 206ms/step - loss: 8.0659e-04 - val_loss: 0.0011\n",
            "Epoch 7/77\n",
            "19/19 [==============================] - 4s 220ms/step - loss: 7.8154e-04 - val_loss: 0.0011\n",
            "Epoch 8/77\n",
            "19/19 [==============================] - 5s 247ms/step - loss: 7.5920e-04 - val_loss: 9.7697e-04\n",
            "Epoch 9/77\n",
            "19/19 [==============================] - 4s 205ms/step - loss: 7.6810e-04 - val_loss: 9.4325e-04\n",
            "Epoch 10/77\n",
            "19/19 [==============================] - 5s 247ms/step - loss: 7.2512e-04 - val_loss: 9.2453e-04\n",
            "Epoch 11/77\n",
            "19/19 [==============================] - 4s 237ms/step - loss: 7.1874e-04 - val_loss: 8.5704e-04\n",
            "Epoch 12/77\n",
            "19/19 [==============================] - 5s 236ms/step - loss: 6.9201e-04 - val_loss: 9.0413e-04\n",
            "Epoch 13/77\n",
            "19/19 [==============================] - 4s 213ms/step - loss: 6.7431e-04 - val_loss: 8.3092e-04\n",
            "Epoch 14/77\n",
            "19/19 [==============================] - 4s 214ms/step - loss: 6.6850e-04 - val_loss: 7.5547e-04\n",
            "Epoch 15/77\n",
            "19/19 [==============================] - 5s 240ms/step - loss: 6.5171e-04 - val_loss: 7.2563e-04\n",
            "Epoch 16/77\n",
            "19/19 [==============================] - 3s 184ms/step - loss: 6.3812e-04 - val_loss: 8.1972e-04\n",
            "Epoch 17/77\n",
            "19/19 [==============================] - 4s 197ms/step - loss: 6.1111e-04 - val_loss: 7.0148e-04\n",
            "Epoch 18/77\n",
            "19/19 [==============================] - 4s 223ms/step - loss: 5.9998e-04 - val_loss: 6.8134e-04\n",
            "Epoch 19/77\n",
            "19/19 [==============================] - 4s 188ms/step - loss: 5.7248e-04 - val_loss: 6.4412e-04\n",
            "Epoch 20/77\n",
            "19/19 [==============================] - 4s 186ms/step - loss: 5.5247e-04 - val_loss: 6.2014e-04\n",
            "Epoch 21/77\n",
            "19/19 [==============================] - 5s 259ms/step - loss: 5.5379e-04 - val_loss: 6.7304e-04\n",
            "Epoch 22/77\n",
            "19/19 [==============================] - 4s 187ms/step - loss: 5.4242e-04 - val_loss: 5.8620e-04\n",
            "Epoch 23/77\n",
            "19/19 [==============================] - 4s 187ms/step - loss: 5.2965e-04 - val_loss: 5.9564e-04\n",
            "Epoch 24/77\n",
            "19/19 [==============================] - 5s 244ms/step - loss: 5.2148e-04 - val_loss: 6.0378e-04\n",
            "Epoch 25/77\n",
            "19/19 [==============================] - 4s 185ms/step - loss: 4.9906e-04 - val_loss: 5.8437e-04\n",
            "Epoch 26/77\n",
            "19/19 [==============================] - 3s 185ms/step - loss: 4.9115e-04 - val_loss: 5.8552e-04\n",
            "Epoch 27/77\n",
            "19/19 [==============================] - 5s 243ms/step - loss: 4.8223e-04 - val_loss: 6.5506e-04\n",
            "Epoch 28/77\n",
            "19/19 [==============================] - 4s 186ms/step - loss: 4.8172e-04 - val_loss: 4.9879e-04\n",
            "Epoch 29/77\n",
            "19/19 [==============================] - 3s 184ms/step - loss: 5.1218e-04 - val_loss: 5.1061e-04\n",
            "Epoch 30/77\n",
            "19/19 [==============================] - 4s 203ms/step - loss: 4.9597e-04 - val_loss: 6.6173e-04\n",
            "Epoch 31/77\n",
            "19/19 [==============================] - 4s 217ms/step - loss: 4.6662e-04 - val_loss: 4.4945e-04\n",
            "Epoch 32/77\n",
            "19/19 [==============================] - 4s 188ms/step - loss: 4.4044e-04 - val_loss: 4.8087e-04\n",
            "Epoch 33/77\n",
            "19/19 [==============================] - 4s 187ms/step - loss: 4.3110e-04 - val_loss: 4.2125e-04\n",
            "Epoch 34/77\n",
            "19/19 [==============================] - 5s 254ms/step - loss: 3.9655e-04 - val_loss: 3.8423e-04\n",
            "Epoch 35/77\n",
            "19/19 [==============================] - 4s 187ms/step - loss: 3.9742e-04 - val_loss: 3.6429e-04\n",
            "Epoch 36/77\n",
            "19/19 [==============================] - 4s 187ms/step - loss: 3.7739e-04 - val_loss: 3.5607e-04\n",
            "Epoch 37/77\n",
            "19/19 [==============================] - 5s 246ms/step - loss: 3.9163e-04 - val_loss: 3.9372e-04\n",
            "Epoch 38/77\n",
            "19/19 [==============================] - 4s 190ms/step - loss: 3.3616e-04 - val_loss: 3.9713e-04\n",
            "Epoch 39/77\n",
            "19/19 [==============================] - 4s 189ms/step - loss: 3.2748e-04 - val_loss: 3.4443e-04\n",
            "Epoch 40/77\n",
            "19/19 [==============================] - 5s 246ms/step - loss: 3.3502e-04 - val_loss: 2.9453e-04\n",
            "Epoch 41/77\n",
            "19/19 [==============================] - 4s 189ms/step - loss: 3.1849e-04 - val_loss: 2.9157e-04\n",
            "Epoch 42/77\n",
            "19/19 [==============================] - 4s 236ms/step - loss: 2.9875e-04 - val_loss: 2.9233e-04\n",
            "Epoch 43/77\n",
            "19/19 [==============================] - 8s 450ms/step - loss: 2.9196e-04 - val_loss: 2.9663e-04\n",
            "Epoch 44/77\n",
            "19/19 [==============================] - 4s 195ms/step - loss: 3.0680e-04 - val_loss: 2.8184e-04\n",
            "Epoch 45/77\n",
            "19/19 [==============================] - 4s 192ms/step - loss: 2.9417e-04 - val_loss: 2.5583e-04\n",
            "Epoch 46/77\n",
            "19/19 [==============================] - 5s 294ms/step - loss: 3.1060e-04 - val_loss: 2.7593e-04\n",
            "Epoch 47/77\n",
            "19/19 [==============================] - 4s 192ms/step - loss: 3.0849e-04 - val_loss: 2.8695e-04\n",
            "Epoch 48/77\n",
            "19/19 [==============================] - 4s 191ms/step - loss: 2.5553e-04 - val_loss: 2.3306e-04\n",
            "Epoch 49/77\n",
            "19/19 [==============================] - 4s 238ms/step - loss: 2.4789e-04 - val_loss: 2.2825e-04\n",
            "Epoch 50/77\n",
            "19/19 [==============================] - 4s 193ms/step - loss: 2.6274e-04 - val_loss: 2.3367e-04\n",
            "Epoch 51/77\n",
            "19/19 [==============================] - 4s 191ms/step - loss: 2.4754e-04 - val_loss: 2.0872e-04\n",
            "Epoch 52/77\n",
            "19/19 [==============================] - 4s 207ms/step - loss: 2.6127e-04 - val_loss: 2.0411e-04\n",
            "Epoch 53/77\n",
            "19/19 [==============================] - 4s 227ms/step - loss: 2.5112e-04 - val_loss: 3.0478e-04\n",
            "Epoch 54/77\n",
            "19/19 [==============================] - 4s 191ms/step - loss: 2.5084e-04 - val_loss: 2.5640e-04\n",
            "Epoch 55/77\n",
            "19/19 [==============================] - 4s 192ms/step - loss: 2.5855e-04 - val_loss: 1.8700e-04\n",
            "Epoch 56/77\n",
            "19/19 [==============================] - 5s 250ms/step - loss: 2.6558e-04 - val_loss: 1.9252e-04\n",
            "Epoch 57/77\n",
            "19/19 [==============================] - 4s 191ms/step - loss: 2.2628e-04 - val_loss: 2.1791e-04\n",
            "Epoch 58/77\n",
            "19/19 [==============================] - 4s 192ms/step - loss: 2.1908e-04 - val_loss: 2.1612e-04\n",
            "Epoch 59/77\n",
            "19/19 [==============================] - 5s 256ms/step - loss: 2.0755e-04 - val_loss: 2.9626e-04\n",
            "Epoch 60/77\n",
            "19/19 [==============================] - 4s 195ms/step - loss: 2.3350e-04 - val_loss: 2.0399e-04\n",
            "Epoch 61/77\n",
            "19/19 [==============================] - 4s 197ms/step - loss: 2.1106e-04 - val_loss: 1.6406e-04\n",
            "Epoch 62/77\n",
            "19/19 [==============================] - 5s 255ms/step - loss: 1.8218e-04 - val_loss: 1.6231e-04\n",
            "Epoch 63/77\n",
            "19/19 [==============================] - 4s 193ms/step - loss: 1.8521e-04 - val_loss: 1.8563e-04\n",
            "Epoch 64/77\n",
            "19/19 [==============================] - 4s 198ms/step - loss: 1.7703e-04 - val_loss: 1.5448e-04\n",
            "Epoch 65/77\n",
            "19/19 [==============================] - 5s 253ms/step - loss: 1.7012e-04 - val_loss: 1.4995e-04\n",
            "Epoch 66/77\n",
            "19/19 [==============================] - 4s 198ms/step - loss: 1.7221e-04 - val_loss: 1.6244e-04\n",
            "Epoch 67/77\n",
            "19/19 [==============================] - 4s 197ms/step - loss: 1.7787e-04 - val_loss: 1.4654e-04\n",
            "Epoch 68/77\n",
            "19/19 [==============================] - 5s 253ms/step - loss: 1.6426e-04 - val_loss: 1.4275e-04\n",
            "Epoch 69/77\n",
            "19/19 [==============================] - 4s 196ms/step - loss: 1.8501e-04 - val_loss: 2.4090e-04\n",
            "Epoch 70/77\n",
            "19/19 [==============================] - 4s 195ms/step - loss: 1.8815e-04 - val_loss: 1.4847e-04\n",
            "Epoch 71/77\n",
            "19/19 [==============================] - 7s 404ms/step - loss: 1.6394e-04 - val_loss: 1.3671e-04\n",
            "Epoch 72/77\n",
            "19/19 [==============================] - 5s 229ms/step - loss: 1.5830e-04 - val_loss: 1.3267e-04\n",
            "Epoch 73/77\n",
            "19/19 [==============================] - 4s 207ms/step - loss: 1.5537e-04 - val_loss: 1.3061e-04\n",
            "Epoch 74/77\n",
            "19/19 [==============================] - 5s 235ms/step - loss: 1.5228e-04 - val_loss: 1.4361e-04\n",
            "Epoch 75/77\n",
            "19/19 [==============================] - 4s 195ms/step - loss: 1.7744e-04 - val_loss: 1.8939e-04\n",
            "Epoch 76/77\n",
            "19/19 [==============================] - 4s 195ms/step - loss: 2.0245e-04 - val_loss: 1.3581e-04\n",
            "Epoch 77/77\n",
            "19/19 [==============================] - 5s 252ms/step - loss: 1.5433e-04 - val_loss: 1.3190e-04\n"
          ]
        }
      ]
    },
    {
      "cell_type": "code",
      "source": [
        "train_predict = model.predict(X_train)\n",
        "test_predict = model.predict(X_test)"
      ],
      "metadata": {
        "colab": {
          "base_uri": "https://localhost:8080/"
        },
        "id": "H8AvD_TL1Mcs",
        "outputId": "37cf1d7d-319c-412e-91ca-5c2f7b51796b"
      },
      "execution_count": null,
      "outputs": [
        {
          "output_type": "stream",
          "name": "stdout",
          "text": [
            "42/42 [==============================] - 3s 41ms/step\n",
            "16/16 [==============================] - 1s 62ms/step\n"
          ]
        }
      ]
    },
    {
      "cell_type": "code",
      "source": [
        "# Reversing the MinMax Scaler\n",
        "train_predict = scaler.inverse_transform(train_predict)\n",
        "test_predict = scaler.inverse_transform(test_predict)"
      ],
      "metadata": {
        "id": "8LR-fQ4S1QWb"
      },
      "execution_count": null,
      "outputs": []
    },
    {
      "cell_type": "code",
      "source": [
        "math.sqrt(mean_squared_error(y_train, train_predict))\n",
        "math.sqrt(mean_squared_error(y_test,test_predict))"
      ],
      "metadata": {
        "colab": {
          "base_uri": "https://localhost:8080/"
        },
        "id": "A88gMHC91TCY",
        "outputId": "2d7176e4-3c0a-409e-f00f-503a93d72876"
      },
      "execution_count": null,
      "outputs": [
        {
          "output_type": "execute_result",
          "data": {
            "text/plain": [
              "207.36022405717867"
            ]
          },
          "metadata": {},
          "execution_count": 20
        }
      ]
    },
    {
      "cell_type": "code",
      "source": [
        "### Visualise the Predictions\n",
        "look_back = 100\n",
        "train_num_pyredict_plot = np.empty_like(data_close)\n",
        "train_num_pyredict_plot[:, :] = np.nan\n",
        "train_num_pyredict_plot[look_back : len(train_predict) + look_back, :] = train_predict\n",
        "test_predict_plot = np.empty_like(data_close)\n",
        "test_predict_plot[:, :] = np.nan\n",
        "test_predict_plot[len(train_predict) + (look_back * 2) + 1 : len(data_close) - 1, :] = test_predict\n",
        "plt.plot(scaler.inverse_transform(data_close))\n",
        "plt.plot(train_num_pyredict_plot)\n",
        "plt.plot(test_predict_plot)\n",
        "plt.show()"
      ],
      "metadata": {
        "colab": {
          "base_uri": "https://localhost:8080/",
          "height": 265
        },
        "id": "t_v-jZFE1WMD",
        "outputId": "660fe152-9deb-4615-d9c6-dbe010f062ab"
      },
      "execution_count": null,
      "outputs": [
        {
          "output_type": "display_data",
          "data": {
            "text/plain": [
              "<Figure size 432x288 with 1 Axes>"
            ],
            "image/png": "[encoded data removed]"
          },
          "metadata": {
            "needs_background": "light"
          }
        }
      ]
    },
    {
      "cell_type": "code",
      "source": [
        "### Future Prediction Model\n",
        "x_inum_pyut=test[307:].reshape(1, -1)\n",
        "x_inum_pyut.shape\n",
        "temp_inum_pyut = list(x_inum_pyut)\n",
        "temp_inum_pyut = temp_inum_pyut[0].tolist()\n",
        "temp_inum_pyut = list(x_inum_pyut)\n",
        "temp_inum_pyut = temp_inum_pyut[0].tolist()"
      ],
      "metadata": {
        "id": "dlVvwZFq1Y3E"
      },
      "execution_count": null,
      "outputs": []
    },
    {
      "cell_type": "code",
      "source": [
        "day_new = np.arange(1, 101)\n",
        "day_pred = np.arange(101, 131)\n",
        "plt.plot(day_new, scaler.inverse_transform(data_close[1935 : ]))"
      ],
      "metadata": {
        "colab": {
          "base_uri": "https://localhost:8080/",
          "height": 282
        },
        "id": "_3BRbqeL1bwt",
        "outputId": "73946903-0ded-44fa-8947-9372304368a6"
      },
      "execution_count": null,
      "outputs": [
        {
          "output_type": "execute_result",
          "data": {
            "text/plain": [
              "[<matplotlib.lines.Line2D at 0x7f048edabf10>]"
            ]
          },
          "metadata": {},
          "execution_count": 23
        },
        {
          "output_type": "display_data",
          "data": {
            "text/plain": [
              "<Figure size 432x288 with 1 Axes>"
            ],
            "image/png": "[encoded data removed]"
          },
          "metadata": {
            "needs_background": "light"
          }
        }
      ]
    }
  ]
}